{
  "nbformat": 4,
  "nbformat_minor": 0,
  "metadata": {
    "colab": {
      "provenance": [],
      "authorship_tag": "ABX9TyM0fKdVCtcT/bUis7o7biBX",
      "include_colab_link": true
    },
    "kernelspec": {
      "name": "python3",
      "display_name": "Python 3"
    },
    "language_info": {
      "name": "python"
    }
  },
  "cells": [
    {
      "cell_type": "markdown",
      "metadata": {
        "id": "view-in-github",
        "colab_type": "text"
      },
      "source": [
        "<a href=\"https://colab.research.google.com/github/Joao30012009/Joao30012009/blob/main/Untitled2.ipynb\" target=\"_parent\"><img src=\"https://colab.research.google.com/assets/colab-badge.svg\" alt=\"Open In Colab\"/></a>"
      ]
    },
    {
      "cell_type": "code",
      "execution_count": null,
      "metadata": {
        "id": "ukwwKi5Tbhrf"
      },
      "outputs": [],
      "source": [
        "P = int(input(\"Posição da porta P (0 ou 1): \"))\n",
        "R = int(input(\"Posição da porta R (0 ou 1): \"))\n",
        "\n",
        "if P == 0:\n",
        "    print(\"C\")\n",
        "elif P == 1:\n",
        "    if R == 1:\n",
        "        print(\"A\")\n",
        "    else:\n",
        "        print(\"B\")\n",
        "else:\n",
        "    print(\"Entrada inválida para P\")\n",
        "\n"
      ]
    }
  ]
}