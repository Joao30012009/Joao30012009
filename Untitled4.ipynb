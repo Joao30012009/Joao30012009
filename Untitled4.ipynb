{
  "nbformat": 4,
  "nbformat_minor": 0,
  "metadata": {
    "colab": {
      "provenance": [],
      "authorship_tag": "ABX9TyON3Sj8SYoHxzKQ8D+s46x4",
      "include_colab_link": true
    },
    "kernelspec": {
      "name": "python3",
      "display_name": "Python 3"
    },
    "language_info": {
      "name": "python"
    }
  },
  "cells": [
    {
      "cell_type": "markdown",
      "metadata": {
        "id": "view-in-github",
        "colab_type": "text"
      },
      "source": [
        "<a href=\"https://colab.research.google.com/github/Joao30012009/Joao30012009/blob/main/Untitled4.ipynb\" target=\"_parent\"><img src=\"https://colab.research.google.com/assets/colab-badge.svg\" alt=\"Open In Colab\"/></a>"
      ]
    },
    {
      "cell_type": "code",
      "execution_count": 1,
      "metadata": {
        "id": "ChS6Althdce6",
        "outputId": "8d36ccda-6902-4370-d96d-b231df666af7",
        "colab": {
          "base_uri": "https://localhost:8080/"
        }
      },
      "outputs": [
        {
          "output_type": "stream",
          "name": "stdout",
          "text": [
            "Tabela de potências para a base 2:\n",
            "2^1 = 2\n",
            "2^2 = 4\n",
            "2^3 = 8\n",
            "2^4 = 16\n",
            "2^5 = 32\n",
            "2^6 = 64\n",
            "2^7 = 128\n",
            "2^8 = 256\n",
            "2^9 = 512\n",
            "2^10 = 1024\n",
            "\n",
            "Tabela de potências para a base 3:\n",
            "3^1 = 3\n",
            "3^2 = 9\n",
            "3^3 = 27\n",
            "3^4 = 81\n",
            "3^5 = 243\n",
            "3^6 = 729\n",
            "3^7 = 2187\n",
            "3^8 = 6561\n",
            "3^9 = 19683\n",
            "3^10 = 59049\n",
            "\n",
            "Tabela de potências para a base 10:\n",
            "10^1 = 10\n",
            "10^2 = 100\n",
            "10^3 = 1000\n",
            "10^4 = 10000\n",
            "10^5 = 100000\n",
            "10^6 = 1000000\n",
            "10^7 = 10000000\n",
            "10^8 = 100000000\n",
            "10^9 = 1000000000\n",
            "10^10 = 10000000000\n"
          ]
        }
      ],
      "source": [
        "def tabela_logaritmica(base):\n",
        "    print(f\"Tabela de potências para a base {base}:\")\n",
        "    for expoente in range(1, 11):\n",
        "        resultado = base ** expoente\n",
        "        print(f\"{base}^{expoente} = {resultado}\")\n",
        "\n",
        "# Testando com diferentes bases\n",
        "tabela_logaritmica(2)\n",
        "print()  # linha em branco para separar as tabelas\n",
        "tabela_logaritmica(3)\n",
        "print()\n",
        "tabela_logaritmica(10)\n"
      ]
    }
  ]
}