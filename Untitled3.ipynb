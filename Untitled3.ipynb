{
  "nbformat": 4,
  "nbformat_minor": 0,
  "metadata": {
    "colab": {
      "provenance": [],
      "authorship_tag": "ABX9TyNXyVX2pM3157lyoilW6Y7b",
      "include_colab_link": true
    },
    "kernelspec": {
      "name": "python3",
      "display_name": "Python 3"
    },
    "language_info": {
      "name": "python"
    }
  },
  "cells": [
    {
      "cell_type": "markdown",
      "metadata": {
        "id": "view-in-github",
        "colab_type": "text"
      },
      "source": [
        "<a href=\"https://colab.research.google.com/github/Joao30012009/Joao30012009/blob/main/Untitled3.ipynb\" target=\"_parent\"><img src=\"https://colab.research.google.com/assets/colab-badge.svg\" alt=\"Open In Colab\"/></a>"
      ]
    },
    {
      "cell_type": "code",
      "execution_count": null,
      "metadata": {
        "id": "-B9NpFdycm-z"
      },
      "outputs": [],
      "source": [
        "def calcula_lider(tempo_total, tempo1, tempo2):\n",
        "    tempo3 = tempo_total - tempo1 - tempo2\n",
        "    mais_experiente = max(tempo1, tempo2, tempo3)\n",
        "    return tempo3, mais_experiente\n",
        "\n",
        "nome1 = input(\"Nome do primeiro candidato: \")\n",
        "nome2 = input(\"Nome do segundo candidato: \")\n",
        "nome3 = input(\"Nome do terceiro candidato: \")\n",
        "\n",
        "tempo1 = int(input(\"Tempo de experiência do primeiro candidato: \"))\n",
        "tempo2 = int(input(\"Tempo de experiência do segundo candidato: \"))\n",
        "tempo_total = int(input(\"Tempo total de experiência dos três: \"))\n",
        "\n",
        "tempo3, mais_experiente = calcula_lider(tempo_total, tempo1, tempo2)\n",
        "\n",
        "print(\"Tempo de experiência do terceiro candidato:\", tempo3)\n",
        "print(\"O mais experiente tem:\", mais_experiente, \"anos de experiência.\")\n"
      ]
    }
  ]
}